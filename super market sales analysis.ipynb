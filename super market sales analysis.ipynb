{
 "cells": [
  {
   "cell_type": "code",
   "execution_count": 10,
   "id": "45ca8162-6f0e-4365-9853-e6f68bd7d5b3",
   "metadata": {},
   "outputs": [
    {
     "name": "stdout",
     "output_type": "stream",
     "text": [
      "Requirement already satisfied: openpyxl in c:\\users\\saurabh\\appdata\\local\\programs\\python\\python312\\lib\\site-packages (3.1.5)\n",
      "Requirement already satisfied: et-xmlfile in c:\\users\\saurabh\\appdata\\local\\programs\\python\\python312\\lib\\site-packages (from openpyxl) (2.0.0)\n",
      "Note: you may need to restart the kernel to use updated packages.\n"
     ]
    }
   ],
   "source": [
    "pip install openpyxl"
   ]
  },
  {
   "cell_type": "code",
   "execution_count": 41,
   "id": "9441af60-c8f1-4425-bf9b-d59319f16eba",
   "metadata": {},
   "outputs": [],
   "source": [
    "import pandas as pd\n",
    "import numpy as np\n",
    "import matplotlib.pyplot as py\n",
    "import seaborn as sns\n",
    "import sklearn\n",
    "import openpyxl"
   ]
  },
  {
   "cell_type": "markdown",
   "id": "85a6ba15-d385-4f48-a727-6c43e55dc277",
   "metadata": {},
   "source": [
    "#load the data"
   ]
  },
  {
   "cell_type": "code",
   "execution_count": 42,
   "id": "c9bcf9a9-13fb-41f7-a05f-0376038bb6c0",
   "metadata": {},
   "outputs": [],
   "source": [
    "customer=pd.read_csv(\"cust_dimen.csv\")\n",
    "market=pd.read_csv(\"market_fact.csv\")\n",
    "order=pd.read_csv(\"orders_dimen.csv\")\n",
    "product=pd.read_csv(\"prod_dimen.csv\")\n",
    "ship=pd.read_csv(\"shipping_dimen.csv\")"
   ]
  },
  {
   "cell_type": "markdown",
   "id": "f197f23e-0da2-4048-9cb5-0efc566a0df5",
   "metadata": {},
   "source": [
    "#seeing the data"
   ]
  },
  {
   "cell_type": "code",
   "execution_count": 43,
   "id": "ced9a152-0fd7-48f1-ab74-99a30f0397ce",
   "metadata": {},
   "outputs": [
    {
     "data": {
      "text/html": [
       "<div>\n",
       "<style scoped>\n",
       "    .dataframe tbody tr th:only-of-type {\n",
       "        vertical-align: middle;\n",
       "    }\n",
       "\n",
       "    .dataframe tbody tr th {\n",
       "        vertical-align: top;\n",
       "    }\n",
       "\n",
       "    .dataframe thead th {\n",
       "        text-align: right;\n",
       "    }\n",
       "</style>\n",
       "<table border=\"1\" class=\"dataframe\">\n",
       "  <thead>\n",
       "    <tr style=\"text-align: right;\">\n",
       "      <th></th>\n",
       "      <th>Customer_Name</th>\n",
       "      <th>Province</th>\n",
       "      <th>Region</th>\n",
       "      <th>Customer_Segment</th>\n",
       "      <th>Cust_id</th>\n",
       "    </tr>\n",
       "  </thead>\n",
       "  <tbody>\n",
       "    <tr>\n",
       "      <th>0</th>\n",
       "      <td>MUHAMMED MACINTYRE</td>\n",
       "      <td>NUNAVUT</td>\n",
       "      <td>NUNAVUT</td>\n",
       "      <td>SMALL BUSINESS</td>\n",
       "      <td>Cust_1</td>\n",
       "    </tr>\n",
       "    <tr>\n",
       "      <th>1</th>\n",
       "      <td>BARRY FRENCH</td>\n",
       "      <td>NUNAVUT</td>\n",
       "      <td>NUNAVUT</td>\n",
       "      <td>CONSUMER</td>\n",
       "      <td>Cust_2</td>\n",
       "    </tr>\n",
       "    <tr>\n",
       "      <th>2</th>\n",
       "      <td>CLAY ROZENDAL</td>\n",
       "      <td>NUNAVUT</td>\n",
       "      <td>NUNAVUT</td>\n",
       "      <td>CORPORATE</td>\n",
       "      <td>Cust_3</td>\n",
       "    </tr>\n",
       "    <tr>\n",
       "      <th>3</th>\n",
       "      <td>CARLOS SOLTERO</td>\n",
       "      <td>NUNAVUT</td>\n",
       "      <td>NUNAVUT</td>\n",
       "      <td>CONSUMER</td>\n",
       "      <td>Cust_4</td>\n",
       "    </tr>\n",
       "    <tr>\n",
       "      <th>4</th>\n",
       "      <td>CARL JACKSON</td>\n",
       "      <td>NUNAVUT</td>\n",
       "      <td>NUNAVUT</td>\n",
       "      <td>CORPORATE</td>\n",
       "      <td>Cust_5</td>\n",
       "    </tr>\n",
       "  </tbody>\n",
       "</table>\n",
       "</div>"
      ],
      "text/plain": [
       "        Customer_Name Province   Region Customer_Segment Cust_id\n",
       "0  MUHAMMED MACINTYRE  NUNAVUT  NUNAVUT   SMALL BUSINESS  Cust_1\n",
       "1        BARRY FRENCH  NUNAVUT  NUNAVUT         CONSUMER  Cust_2\n",
       "2       CLAY ROZENDAL  NUNAVUT  NUNAVUT        CORPORATE  Cust_3\n",
       "3      CARLOS SOLTERO  NUNAVUT  NUNAVUT         CONSUMER  Cust_4\n",
       "4        CARL JACKSON  NUNAVUT  NUNAVUT        CORPORATE  Cust_5"
      ]
     },
     "execution_count": 43,
     "metadata": {},
     "output_type": "execute_result"
    }
   ],
   "source": [
    "customer.head()"
   ]
  },
  {
   "cell_type": "code",
   "execution_count": 44,
   "id": "dfce9381-5572-40cc-86c1-ec2a6a0855da",
   "metadata": {},
   "outputs": [
    {
     "data": {
      "text/html": [
       "<div>\n",
       "<style scoped>\n",
       "    .dataframe tbody tr th:only-of-type {\n",
       "        vertical-align: middle;\n",
       "    }\n",
       "\n",
       "    .dataframe tbody tr th {\n",
       "        vertical-align: top;\n",
       "    }\n",
       "\n",
       "    .dataframe thead th {\n",
       "        text-align: right;\n",
       "    }\n",
       "</style>\n",
       "<table border=\"1\" class=\"dataframe\">\n",
       "  <thead>\n",
       "    <tr style=\"text-align: right;\">\n",
       "      <th></th>\n",
       "      <th>Ord_id</th>\n",
       "      <th>Prod_id</th>\n",
       "      <th>Ship_id</th>\n",
       "      <th>Cust_id</th>\n",
       "      <th>Sales</th>\n",
       "      <th>Discount</th>\n",
       "      <th>Order_Quantity</th>\n",
       "      <th>Profit</th>\n",
       "      <th>Shipping_Cost</th>\n",
       "      <th>Product_Base_Margin</th>\n",
       "    </tr>\n",
       "  </thead>\n",
       "  <tbody>\n",
       "    <tr>\n",
       "      <th>0</th>\n",
       "      <td>Ord_5446</td>\n",
       "      <td>Prod_16</td>\n",
       "      <td>SHP_7609</td>\n",
       "      <td>Cust_1818</td>\n",
       "      <td>136.81</td>\n",
       "      <td>0.01</td>\n",
       "      <td>23</td>\n",
       "      <td>-30.51</td>\n",
       "      <td>3.60</td>\n",
       "      <td>0.56</td>\n",
       "    </tr>\n",
       "    <tr>\n",
       "      <th>1</th>\n",
       "      <td>Ord_5406</td>\n",
       "      <td>Prod_13</td>\n",
       "      <td>SHP_7549</td>\n",
       "      <td>Cust_1818</td>\n",
       "      <td>42.27</td>\n",
       "      <td>0.01</td>\n",
       "      <td>13</td>\n",
       "      <td>4.56</td>\n",
       "      <td>0.93</td>\n",
       "      <td>0.54</td>\n",
       "    </tr>\n",
       "    <tr>\n",
       "      <th>2</th>\n",
       "      <td>Ord_5446</td>\n",
       "      <td>Prod_4</td>\n",
       "      <td>SHP_7610</td>\n",
       "      <td>Cust_1818</td>\n",
       "      <td>4701.69</td>\n",
       "      <td>0.00</td>\n",
       "      <td>26</td>\n",
       "      <td>1148.90</td>\n",
       "      <td>2.50</td>\n",
       "      <td>0.59</td>\n",
       "    </tr>\n",
       "    <tr>\n",
       "      <th>3</th>\n",
       "      <td>Ord_5456</td>\n",
       "      <td>Prod_6</td>\n",
       "      <td>SHP_7625</td>\n",
       "      <td>Cust_1818</td>\n",
       "      <td>2337.89</td>\n",
       "      <td>0.09</td>\n",
       "      <td>43</td>\n",
       "      <td>729.34</td>\n",
       "      <td>14.30</td>\n",
       "      <td>0.37</td>\n",
       "    </tr>\n",
       "    <tr>\n",
       "      <th>4</th>\n",
       "      <td>Ord_5485</td>\n",
       "      <td>Prod_17</td>\n",
       "      <td>SHP_7664</td>\n",
       "      <td>Cust_1818</td>\n",
       "      <td>4233.15</td>\n",
       "      <td>0.08</td>\n",
       "      <td>35</td>\n",
       "      <td>1219.87</td>\n",
       "      <td>26.30</td>\n",
       "      <td>0.38</td>\n",
       "    </tr>\n",
       "  </tbody>\n",
       "</table>\n",
       "</div>"
      ],
      "text/plain": [
       "     Ord_id  Prod_id   Ship_id    Cust_id    Sales  Discount  Order_Quantity  \\\n",
       "0  Ord_5446  Prod_16  SHP_7609  Cust_1818   136.81      0.01              23   \n",
       "1  Ord_5406  Prod_13  SHP_7549  Cust_1818    42.27      0.01              13   \n",
       "2  Ord_5446   Prod_4  SHP_7610  Cust_1818  4701.69      0.00              26   \n",
       "3  Ord_5456   Prod_6  SHP_7625  Cust_1818  2337.89      0.09              43   \n",
       "4  Ord_5485  Prod_17  SHP_7664  Cust_1818  4233.15      0.08              35   \n",
       "\n",
       "    Profit  Shipping_Cost  Product_Base_Margin  \n",
       "0   -30.51           3.60                 0.56  \n",
       "1     4.56           0.93                 0.54  \n",
       "2  1148.90           2.50                 0.59  \n",
       "3   729.34          14.30                 0.37  \n",
       "4  1219.87          26.30                 0.38  "
      ]
     },
     "execution_count": 44,
     "metadata": {},
     "output_type": "execute_result"
    }
   ],
   "source": [
    "market.head()"
   ]
  },
  {
   "cell_type": "code",
   "execution_count": 45,
   "id": "ebe4d5f1-894a-4a3d-990c-36ab596839ea",
   "metadata": {},
   "outputs": [
    {
     "data": {
      "text/html": [
       "<div>\n",
       "<style scoped>\n",
       "    .dataframe tbody tr th:only-of-type {\n",
       "        vertical-align: middle;\n",
       "    }\n",
       "\n",
       "    .dataframe tbody tr th {\n",
       "        vertical-align: top;\n",
       "    }\n",
       "\n",
       "    .dataframe thead th {\n",
       "        text-align: right;\n",
       "    }\n",
       "</style>\n",
       "<table border=\"1\" class=\"dataframe\">\n",
       "  <thead>\n",
       "    <tr style=\"text-align: right;\">\n",
       "      <th></th>\n",
       "      <th>Order_ID</th>\n",
       "      <th>Order_Date</th>\n",
       "      <th>Order_Priority</th>\n",
       "      <th>Ord_id</th>\n",
       "    </tr>\n",
       "  </thead>\n",
       "  <tbody>\n",
       "    <tr>\n",
       "      <th>0</th>\n",
       "      <td>3</td>\n",
       "      <td>13-10-2010</td>\n",
       "      <td>LOW</td>\n",
       "      <td>Ord_1</td>\n",
       "    </tr>\n",
       "    <tr>\n",
       "      <th>1</th>\n",
       "      <td>293</td>\n",
       "      <td>01-10-2012</td>\n",
       "      <td>HIGH</td>\n",
       "      <td>Ord_2</td>\n",
       "    </tr>\n",
       "    <tr>\n",
       "      <th>2</th>\n",
       "      <td>483</td>\n",
       "      <td>10-07-2011</td>\n",
       "      <td>HIGH</td>\n",
       "      <td>Ord_3</td>\n",
       "    </tr>\n",
       "    <tr>\n",
       "      <th>3</th>\n",
       "      <td>515</td>\n",
       "      <td>28-08-2010</td>\n",
       "      <td>NOT SPECIFIED</td>\n",
       "      <td>Ord_4</td>\n",
       "    </tr>\n",
       "    <tr>\n",
       "      <th>4</th>\n",
       "      <td>613</td>\n",
       "      <td>17-06-2011</td>\n",
       "      <td>HIGH</td>\n",
       "      <td>Ord_5</td>\n",
       "    </tr>\n",
       "  </tbody>\n",
       "</table>\n",
       "</div>"
      ],
      "text/plain": [
       "   Order_ID  Order_Date Order_Priority Ord_id\n",
       "0         3  13-10-2010            LOW  Ord_1\n",
       "1       293  01-10-2012           HIGH  Ord_2\n",
       "2       483  10-07-2011           HIGH  Ord_3\n",
       "3       515  28-08-2010  NOT SPECIFIED  Ord_4\n",
       "4       613  17-06-2011           HIGH  Ord_5"
      ]
     },
     "execution_count": 45,
     "metadata": {},
     "output_type": "execute_result"
    }
   ],
   "source": [
    "order.head()"
   ]
  },
  {
   "cell_type": "code",
   "execution_count": 46,
   "id": "1b469ac5-5ec8-4e54-a0e8-fcae0c76f9e9",
   "metadata": {},
   "outputs": [
    {
     "data": {
      "text/html": [
       "<div>\n",
       "<style scoped>\n",
       "    .dataframe tbody tr th:only-of-type {\n",
       "        vertical-align: middle;\n",
       "    }\n",
       "\n",
       "    .dataframe tbody tr th {\n",
       "        vertical-align: top;\n",
       "    }\n",
       "\n",
       "    .dataframe thead th {\n",
       "        text-align: right;\n",
       "    }\n",
       "</style>\n",
       "<table border=\"1\" class=\"dataframe\">\n",
       "  <thead>\n",
       "    <tr style=\"text-align: right;\">\n",
       "      <th></th>\n",
       "      <th>Product_Category</th>\n",
       "      <th>Product_Sub_Category</th>\n",
       "      <th>Prod_id</th>\n",
       "    </tr>\n",
       "  </thead>\n",
       "  <tbody>\n",
       "    <tr>\n",
       "      <th>0</th>\n",
       "      <td>OFFICE SUPPLIES</td>\n",
       "      <td>STORAGE &amp; ORGANIZATION</td>\n",
       "      <td>Prod_1</td>\n",
       "    </tr>\n",
       "    <tr>\n",
       "      <th>1</th>\n",
       "      <td>OFFICE SUPPLIES</td>\n",
       "      <td>APPLIANCES</td>\n",
       "      <td>Prod_2</td>\n",
       "    </tr>\n",
       "    <tr>\n",
       "      <th>2</th>\n",
       "      <td>OFFICE SUPPLIES</td>\n",
       "      <td>BINDERS AND BINDER ACCESSORIES</td>\n",
       "      <td>Prod_3</td>\n",
       "    </tr>\n",
       "    <tr>\n",
       "      <th>3</th>\n",
       "      <td>TECHNOLOGY</td>\n",
       "      <td>TELEPHONES AND COMMUNICATION</td>\n",
       "      <td>Prod_4</td>\n",
       "    </tr>\n",
       "    <tr>\n",
       "      <th>4</th>\n",
       "      <td>FURNITURE</td>\n",
       "      <td>OFFICE FURNISHINGS</td>\n",
       "      <td>Prod_5</td>\n",
       "    </tr>\n",
       "  </tbody>\n",
       "</table>\n",
       "</div>"
      ],
      "text/plain": [
       "  Product_Category            Product_Sub_Category Prod_id\n",
       "0  OFFICE SUPPLIES          STORAGE & ORGANIZATION  Prod_1\n",
       "1  OFFICE SUPPLIES                      APPLIANCES  Prod_2\n",
       "2  OFFICE SUPPLIES  BINDERS AND BINDER ACCESSORIES  Prod_3\n",
       "3       TECHNOLOGY    TELEPHONES AND COMMUNICATION  Prod_4\n",
       "4        FURNITURE              OFFICE FURNISHINGS  Prod_5"
      ]
     },
     "execution_count": 46,
     "metadata": {},
     "output_type": "execute_result"
    }
   ],
   "source": [
    "product.head()"
   ]
  },
  {
   "cell_type": "code",
   "execution_count": 47,
   "id": "c179b1fd-2ff4-4027-85c7-bb3bdc307fbf",
   "metadata": {},
   "outputs": [
    {
     "data": {
      "text/html": [
       "<div>\n",
       "<style scoped>\n",
       "    .dataframe tbody tr th:only-of-type {\n",
       "        vertical-align: middle;\n",
       "    }\n",
       "\n",
       "    .dataframe tbody tr th {\n",
       "        vertical-align: top;\n",
       "    }\n",
       "\n",
       "    .dataframe thead th {\n",
       "        text-align: right;\n",
       "    }\n",
       "</style>\n",
       "<table border=\"1\" class=\"dataframe\">\n",
       "  <thead>\n",
       "    <tr style=\"text-align: right;\">\n",
       "      <th></th>\n",
       "      <th>Order_ID</th>\n",
       "      <th>Ship_Mode</th>\n",
       "      <th>Ship_Date</th>\n",
       "      <th>Ship_id</th>\n",
       "    </tr>\n",
       "  </thead>\n",
       "  <tbody>\n",
       "    <tr>\n",
       "      <th>0</th>\n",
       "      <td>3</td>\n",
       "      <td>REGULAR AIR</td>\n",
       "      <td>20-10-2010</td>\n",
       "      <td>SHP_1</td>\n",
       "    </tr>\n",
       "    <tr>\n",
       "      <th>1</th>\n",
       "      <td>293</td>\n",
       "      <td>DELIVERY TRUCK</td>\n",
       "      <td>02-10-2012</td>\n",
       "      <td>SHP_2</td>\n",
       "    </tr>\n",
       "    <tr>\n",
       "      <th>2</th>\n",
       "      <td>293</td>\n",
       "      <td>REGULAR AIR</td>\n",
       "      <td>03-10-2012</td>\n",
       "      <td>SHP_3</td>\n",
       "    </tr>\n",
       "    <tr>\n",
       "      <th>3</th>\n",
       "      <td>483</td>\n",
       "      <td>REGULAR AIR</td>\n",
       "      <td>12-07-2011</td>\n",
       "      <td>SHP_4</td>\n",
       "    </tr>\n",
       "    <tr>\n",
       "      <th>4</th>\n",
       "      <td>515</td>\n",
       "      <td>REGULAR AIR</td>\n",
       "      <td>30-08-2010</td>\n",
       "      <td>SHP_5</td>\n",
       "    </tr>\n",
       "  </tbody>\n",
       "</table>\n",
       "</div>"
      ],
      "text/plain": [
       "   Order_ID       Ship_Mode   Ship_Date Ship_id\n",
       "0         3     REGULAR AIR  20-10-2010   SHP_1\n",
       "1       293  DELIVERY TRUCK  02-10-2012   SHP_2\n",
       "2       293     REGULAR AIR  03-10-2012   SHP_3\n",
       "3       483     REGULAR AIR  12-07-2011   SHP_4\n",
       "4       515     REGULAR AIR  30-08-2010   SHP_5"
      ]
     },
     "execution_count": 47,
     "metadata": {},
     "output_type": "execute_result"
    }
   ],
   "source": [
    "ship.head()"
   ]
  },
  {
   "cell_type": "code",
   "execution_count": 48,
   "id": "ea1efa76-ae97-4c0c-a955-8544de2c53ec",
   "metadata": {},
   "outputs": [
    {
     "name": "stdout",
     "output_type": "stream",
     "text": [
      "customer Index(['Customer_Name', 'Province', 'Region', 'Customer_Segment', 'Cust_id'], dtype='object')\n",
      "\n",
      "market Index(['Ord_id', 'Prod_id', 'Ship_id', 'Cust_id', 'Sales', 'Discount',\n",
      "       'Order_Quantity', 'Profit', 'Shipping_Cost', 'Product_Base_Margin'],\n",
      "      dtype='object')\n",
      "\n",
      "order Index(['Order_ID', 'Order_Date', 'Order_Priority', 'Ord_id'], dtype='object')\n",
      "\n",
      "product Index(['Product_Category', 'Product_Sub_Category', 'Prod_id'], dtype='object')\n",
      "\n",
      "shipping Index(['Order_ID', 'Ship_Mode', 'Ship_Date', 'Ship_id'], dtype='object')\n"
     ]
    }
   ],
   "source": [
    "print(\"customer\",customer.columns)\n",
    "print()\n",
    "print(\"market\",market.columns)\n",
    "print()\n",
    "print(\"order\",order.columns)\n",
    "print()\n",
    "print(\"product\",product.columns)\n",
    "print()\n",
    "print(\"shipping\",ship.columns)"
   ]
  },
  {
   "cell_type": "raw",
   "id": "dd27dea4-6153-438e-b860-024a105dab9d",
   "metadata": {},
   "source": [
    "#now merge table based on common columns"
   ]
  },
  {
   "cell_type": "code",
   "execution_count": 49,
   "id": "88116c9d-1148-4640-8c32-5e5fdb951159",
   "metadata": {},
   "outputs": [],
   "source": [
    "merged=pd.merge(market,order,on='Ord_id')  #merging market and order table"
   ]
  },
  {
   "cell_type": "code",
   "execution_count": 50,
   "id": "e8e2e0cb-cc18-401f-91de-67633b7914c9",
   "metadata": {},
   "outputs": [],
   "source": [
    "merged=pd.merge(merged,product,on='Prod_id') #merging product also"
   ]
  },
  {
   "cell_type": "code",
   "execution_count": 51,
   "id": "f07f7f0b-b669-4821-a93b-3c8715dd1f2f",
   "metadata": {},
   "outputs": [],
   "source": [
    "merged=pd.merge(merged,ship,on='Ship_id') #merging ship "
   ]
  },
  {
   "cell_type": "code",
   "execution_count": 52,
   "id": "f50fef46-d7db-4152-8ac5-946d7c248cd5",
   "metadata": {},
   "outputs": [],
   "source": [
    "merged=pd.merge(merged,customer,on='Cust_id') #merging customer "
   ]
  },
  {
   "cell_type": "code",
   "execution_count": 53,
   "id": "54d285a1-01a7-4dfa-b7fb-075f09a1b281",
   "metadata": {},
   "outputs": [],
   "source": [
    "finaldata=merged.copy()  #final data"
   ]
  },
  {
   "cell_type": "code",
   "execution_count": 54,
   "id": "285b722f-1621-4631-8b80-73880d45bd85",
   "metadata": {},
   "outputs": [
    {
     "data": {
      "text/plain": [
       "(8399, 22)"
      ]
     },
     "execution_count": 54,
     "metadata": {},
     "output_type": "execute_result"
    }
   ],
   "source": [
    "finaldata.shape"
   ]
  },
  {
   "cell_type": "code",
   "execution_count": 55,
   "id": "03b4663f-a908-4ff6-b631-5985f39741f0",
   "metadata": {},
   "outputs": [
    {
     "data": {
      "text/html": [
       "<div>\n",
       "<style scoped>\n",
       "    .dataframe tbody tr th:only-of-type {\n",
       "        vertical-align: middle;\n",
       "    }\n",
       "\n",
       "    .dataframe tbody tr th {\n",
       "        vertical-align: top;\n",
       "    }\n",
       "\n",
       "    .dataframe thead th {\n",
       "        text-align: right;\n",
       "    }\n",
       "</style>\n",
       "<table border=\"1\" class=\"dataframe\">\n",
       "  <thead>\n",
       "    <tr style=\"text-align: right;\">\n",
       "      <th></th>\n",
       "      <th>Ord_id</th>\n",
       "      <th>Prod_id</th>\n",
       "      <th>Ship_id</th>\n",
       "      <th>Cust_id</th>\n",
       "      <th>Sales</th>\n",
       "      <th>Discount</th>\n",
       "      <th>Order_Quantity</th>\n",
       "      <th>Profit</th>\n",
       "      <th>Shipping_Cost</th>\n",
       "      <th>Product_Base_Margin</th>\n",
       "      <th>...</th>\n",
       "      <th>Order_Priority</th>\n",
       "      <th>Product_Category</th>\n",
       "      <th>Product_Sub_Category</th>\n",
       "      <th>Order_ID_y</th>\n",
       "      <th>Ship_Mode</th>\n",
       "      <th>Ship_Date</th>\n",
       "      <th>Customer_Name</th>\n",
       "      <th>Province</th>\n",
       "      <th>Region</th>\n",
       "      <th>Customer_Segment</th>\n",
       "    </tr>\n",
       "  </thead>\n",
       "  <tbody>\n",
       "    <tr>\n",
       "      <th>0</th>\n",
       "      <td>Ord_5446</td>\n",
       "      <td>Prod_16</td>\n",
       "      <td>SHP_7609</td>\n",
       "      <td>Cust_1818</td>\n",
       "      <td>136.81</td>\n",
       "      <td>0.01</td>\n",
       "      <td>23</td>\n",
       "      <td>-30.51</td>\n",
       "      <td>3.60</td>\n",
       "      <td>0.56</td>\n",
       "      <td>...</td>\n",
       "      <td>NOT SPECIFIED</td>\n",
       "      <td>OFFICE SUPPLIES</td>\n",
       "      <td>SCISSORS, RULERS AND TRIMMERS</td>\n",
       "      <td>36262</td>\n",
       "      <td>REGULAR AIR</td>\n",
       "      <td>28-07-2010</td>\n",
       "      <td>AARON BERGMAN</td>\n",
       "      <td>ALBERTA</td>\n",
       "      <td>WEST</td>\n",
       "      <td>CORPORATE</td>\n",
       "    </tr>\n",
       "    <tr>\n",
       "      <th>1</th>\n",
       "      <td>Ord_5406</td>\n",
       "      <td>Prod_13</td>\n",
       "      <td>SHP_7549</td>\n",
       "      <td>Cust_1818</td>\n",
       "      <td>42.27</td>\n",
       "      <td>0.01</td>\n",
       "      <td>13</td>\n",
       "      <td>4.56</td>\n",
       "      <td>0.93</td>\n",
       "      <td>0.54</td>\n",
       "      <td>...</td>\n",
       "      <td>HIGH</td>\n",
       "      <td>OFFICE SUPPLIES</td>\n",
       "      <td>PENS &amp; ART SUPPLIES</td>\n",
       "      <td>20513</td>\n",
       "      <td>EXPRESS AIR</td>\n",
       "      <td>08-07-2009</td>\n",
       "      <td>AARON BERGMAN</td>\n",
       "      <td>ALBERTA</td>\n",
       "      <td>WEST</td>\n",
       "      <td>CORPORATE</td>\n",
       "    </tr>\n",
       "    <tr>\n",
       "      <th>2</th>\n",
       "      <td>Ord_5446</td>\n",
       "      <td>Prod_4</td>\n",
       "      <td>SHP_7610</td>\n",
       "      <td>Cust_1818</td>\n",
       "      <td>4701.69</td>\n",
       "      <td>0.00</td>\n",
       "      <td>26</td>\n",
       "      <td>1148.90</td>\n",
       "      <td>2.50</td>\n",
       "      <td>0.59</td>\n",
       "      <td>...</td>\n",
       "      <td>NOT SPECIFIED</td>\n",
       "      <td>TECHNOLOGY</td>\n",
       "      <td>TELEPHONES AND COMMUNICATION</td>\n",
       "      <td>36262</td>\n",
       "      <td>EXPRESS AIR</td>\n",
       "      <td>27-07-2010</td>\n",
       "      <td>AARON BERGMAN</td>\n",
       "      <td>ALBERTA</td>\n",
       "      <td>WEST</td>\n",
       "      <td>CORPORATE</td>\n",
       "    </tr>\n",
       "    <tr>\n",
       "      <th>3</th>\n",
       "      <td>Ord_5456</td>\n",
       "      <td>Prod_6</td>\n",
       "      <td>SHP_7625</td>\n",
       "      <td>Cust_1818</td>\n",
       "      <td>2337.89</td>\n",
       "      <td>0.09</td>\n",
       "      <td>43</td>\n",
       "      <td>729.34</td>\n",
       "      <td>14.30</td>\n",
       "      <td>0.37</td>\n",
       "      <td>...</td>\n",
       "      <td>MEDIUM</td>\n",
       "      <td>OFFICE SUPPLIES</td>\n",
       "      <td>PAPER</td>\n",
       "      <td>39682</td>\n",
       "      <td>EXPRESS AIR</td>\n",
       "      <td>11-11-2010</td>\n",
       "      <td>AARON BERGMAN</td>\n",
       "      <td>ALBERTA</td>\n",
       "      <td>WEST</td>\n",
       "      <td>CORPORATE</td>\n",
       "    </tr>\n",
       "    <tr>\n",
       "      <th>4</th>\n",
       "      <td>Ord_5485</td>\n",
       "      <td>Prod_17</td>\n",
       "      <td>SHP_7664</td>\n",
       "      <td>Cust_1818</td>\n",
       "      <td>4233.15</td>\n",
       "      <td>0.08</td>\n",
       "      <td>35</td>\n",
       "      <td>1219.87</td>\n",
       "      <td>26.30</td>\n",
       "      <td>0.38</td>\n",
       "      <td>...</td>\n",
       "      <td>LOW</td>\n",
       "      <td>TECHNOLOGY</td>\n",
       "      <td>OFFICE MACHINES</td>\n",
       "      <td>54019</td>\n",
       "      <td>DELIVERY TRUCK</td>\n",
       "      <td>08-07-2009</td>\n",
       "      <td>AARON BERGMAN</td>\n",
       "      <td>ALBERTA</td>\n",
       "      <td>WEST</td>\n",
       "      <td>CORPORATE</td>\n",
       "    </tr>\n",
       "  </tbody>\n",
       "</table>\n",
       "<p>5 rows × 22 columns</p>\n",
       "</div>"
      ],
      "text/plain": [
       "     Ord_id  Prod_id   Ship_id    Cust_id    Sales  Discount  Order_Quantity  \\\n",
       "0  Ord_5446  Prod_16  SHP_7609  Cust_1818   136.81      0.01              23   \n",
       "1  Ord_5406  Prod_13  SHP_7549  Cust_1818    42.27      0.01              13   \n",
       "2  Ord_5446   Prod_4  SHP_7610  Cust_1818  4701.69      0.00              26   \n",
       "3  Ord_5456   Prod_6  SHP_7625  Cust_1818  2337.89      0.09              43   \n",
       "4  Ord_5485  Prod_17  SHP_7664  Cust_1818  4233.15      0.08              35   \n",
       "\n",
       "    Profit  Shipping_Cost  Product_Base_Margin  ...  Order_Priority  \\\n",
       "0   -30.51           3.60                 0.56  ...   NOT SPECIFIED   \n",
       "1     4.56           0.93                 0.54  ...            HIGH   \n",
       "2  1148.90           2.50                 0.59  ...   NOT SPECIFIED   \n",
       "3   729.34          14.30                 0.37  ...          MEDIUM   \n",
       "4  1219.87          26.30                 0.38  ...             LOW   \n",
       "\n",
       "  Product_Category           Product_Sub_Category Order_ID_y       Ship_Mode  \\\n",
       "0  OFFICE SUPPLIES  SCISSORS, RULERS AND TRIMMERS      36262     REGULAR AIR   \n",
       "1  OFFICE SUPPLIES            PENS & ART SUPPLIES      20513     EXPRESS AIR   \n",
       "2       TECHNOLOGY   TELEPHONES AND COMMUNICATION      36262     EXPRESS AIR   \n",
       "3  OFFICE SUPPLIES                          PAPER      39682     EXPRESS AIR   \n",
       "4       TECHNOLOGY                OFFICE MACHINES      54019  DELIVERY TRUCK   \n",
       "\n",
       "    Ship_Date  Customer_Name Province Region Customer_Segment  \n",
       "0  28-07-2010  AARON BERGMAN  ALBERTA   WEST        CORPORATE  \n",
       "1  08-07-2009  AARON BERGMAN  ALBERTA   WEST        CORPORATE  \n",
       "2  27-07-2010  AARON BERGMAN  ALBERTA   WEST        CORPORATE  \n",
       "3  11-11-2010  AARON BERGMAN  ALBERTA   WEST        CORPORATE  \n",
       "4  08-07-2009  AARON BERGMAN  ALBERTA   WEST        CORPORATE  \n",
       "\n",
       "[5 rows x 22 columns]"
      ]
     },
     "execution_count": 55,
     "metadata": {},
     "output_type": "execute_result"
    }
   ],
   "source": [
    "finaldata.head()"
   ]
  },
  {
   "cell_type": "raw",
   "id": "81e8ee7a-616f-4412-966c-abbfc865a591",
   "metadata": {},
   "source": [
    "#cleaning the data\n",
    "Are there any missing values?\n",
    "Are there any duplicate rows?\n",
    "Is the data type correct?\n"
   ]
  },
  {
   "cell_type": "code",
   "execution_count": 56,
   "id": "04111fce-c30c-4ffb-acdc-ea5bda8d9a0f",
   "metadata": {},
   "outputs": [
    {
     "data": {
      "text/plain": [
       "Ord_id                   0\n",
       "Prod_id                  0\n",
       "Ship_id                  0\n",
       "Cust_id                  0\n",
       "Sales                    0\n",
       "Discount                 0\n",
       "Order_Quantity           0\n",
       "Profit                   0\n",
       "Shipping_Cost            0\n",
       "Product_Base_Margin     63\n",
       "Order_ID_x               0\n",
       "Order_Date               0\n",
       "Order_Priority           0\n",
       "Product_Category         0\n",
       "Product_Sub_Category     0\n",
       "Order_ID_y               0\n",
       "Ship_Mode                0\n",
       "Ship_Date                0\n",
       "Customer_Name            0\n",
       "Province                 0\n",
       "Region                   0\n",
       "Customer_Segment         0\n",
       "dtype: int64"
      ]
     },
     "execution_count": 56,
     "metadata": {},
     "output_type": "execute_result"
    }
   ],
   "source": [
    "finaldata.isnull().sum()  #for null values"
   ]
  },
  {
   "cell_type": "code",
   "execution_count": 57,
   "id": "ae3505fd-5971-4cc0-8b3f-72f8a36cdc3a",
   "metadata": {},
   "outputs": [],
   "source": [
    "#in product base margin column we got 63 null values , we will fill remove it"
   ]
  },
  {
   "cell_type": "code",
   "execution_count": 58,
   "id": "4521c0f9-3379-4e07-aac8-ceaef1d0d1cc",
   "metadata": {},
   "outputs": [],
   "source": [
    "finaldata=finaldata.dropna()"
   ]
  },
  {
   "cell_type": "code",
   "execution_count": 59,
   "id": "fd672128-7f94-40a9-9518-a99fe2301a2f",
   "metadata": {},
   "outputs": [
    {
     "data": {
      "text/plain": [
       "Ord_id                  0\n",
       "Prod_id                 0\n",
       "Ship_id                 0\n",
       "Cust_id                 0\n",
       "Sales                   0\n",
       "Discount                0\n",
       "Order_Quantity          0\n",
       "Profit                  0\n",
       "Shipping_Cost           0\n",
       "Product_Base_Margin     0\n",
       "Order_ID_x              0\n",
       "Order_Date              0\n",
       "Order_Priority          0\n",
       "Product_Category        0\n",
       "Product_Sub_Category    0\n",
       "Order_ID_y              0\n",
       "Ship_Mode               0\n",
       "Ship_Date               0\n",
       "Customer_Name           0\n",
       "Province                0\n",
       "Region                  0\n",
       "Customer_Segment        0\n",
       "dtype: int64"
      ]
     },
     "execution_count": 59,
     "metadata": {},
     "output_type": "execute_result"
    }
   ],
   "source": [
    "finaldata.isnull().sum()"
   ]
  },
  {
   "cell_type": "code",
   "execution_count": 60,
   "id": "1baa0010-605a-4001-8542-c700341e2ca2",
   "metadata": {},
   "outputs": [
    {
     "data": {
      "text/plain": [
       "(8336, 22)"
      ]
     },
     "execution_count": 60,
     "metadata": {},
     "output_type": "execute_result"
    }
   ],
   "source": [
    "finaldata.shape"
   ]
  },
  {
   "cell_type": "code",
   "execution_count": 61,
   "id": "240563ef-660d-4fb2-a169-9d27b3e18545",
   "metadata": {},
   "outputs": [],
   "source": [
    "#earlier we had 8399 rows , and after removing we have now 8366 rows after removing the misssing value"
   ]
  },
  {
   "cell_type": "code",
   "execution_count": 62,
   "id": "afd74282-d51a-47ed-896a-67c7368224f0",
   "metadata": {},
   "outputs": [
    {
     "name": "stdout",
     "output_type": "stream",
     "text": [
      "0\n"
     ]
    }
   ],
   "source": [
    "print(finaldata.duplicated().sum())  #for duplicates"
   ]
  },
  {
   "cell_type": "code",
   "execution_count": 63,
   "id": "722ab487-44b9-41eb-a5e3-171ab99dfa16",
   "metadata": {},
   "outputs": [],
   "source": [
    "# we can see no duplicates in the data"
   ]
  },
  {
   "cell_type": "code",
   "execution_count": 64,
   "id": "a399c7b3-2586-46a8-a40c-2c36307cb1b4",
   "metadata": {},
   "outputs": [
    {
     "name": "stdout",
     "output_type": "stream",
     "text": [
      "<class 'pandas.core.frame.DataFrame'>\n",
      "Index: 8336 entries, 0 to 8398\n",
      "Data columns (total 22 columns):\n",
      " #   Column                Non-Null Count  Dtype  \n",
      "---  ------                --------------  -----  \n",
      " 0   Ord_id                8336 non-null   object \n",
      " 1   Prod_id               8336 non-null   object \n",
      " 2   Ship_id               8336 non-null   object \n",
      " 3   Cust_id               8336 non-null   object \n",
      " 4   Sales                 8336 non-null   float64\n",
      " 5   Discount              8336 non-null   float64\n",
      " 6   Order_Quantity        8336 non-null   int64  \n",
      " 7   Profit                8336 non-null   float64\n",
      " 8   Shipping_Cost         8336 non-null   float64\n",
      " 9   Product_Base_Margin   8336 non-null   float64\n",
      " 10  Order_ID_x            8336 non-null   int64  \n",
      " 11  Order_Date            8336 non-null   object \n",
      " 12  Order_Priority        8336 non-null   object \n",
      " 13  Product_Category      8336 non-null   object \n",
      " 14  Product_Sub_Category  8336 non-null   object \n",
      " 15  Order_ID_y            8336 non-null   int64  \n",
      " 16  Ship_Mode             8336 non-null   object \n",
      " 17  Ship_Date             8336 non-null   object \n",
      " 18  Customer_Name         8336 non-null   object \n",
      " 19  Province              8336 non-null   object \n",
      " 20  Region                8336 non-null   object \n",
      " 21  Customer_Segment      8336 non-null   object \n",
      "dtypes: float64(5), int64(3), object(14)\n",
      "memory usage: 1.5+ MB\n"
     ]
    }
   ],
   "source": [
    "finaldata.info()  #for checking datatpes"
   ]
  },
  {
   "cell_type": "code",
   "execution_count": 65,
   "id": "23551763-5a91-4e45-8e8e-c3b70ae7ad02",
   "metadata": {},
   "outputs": [],
   "source": [
    "#from this I can see that I have two order id and orderdate and shipdate should be in datetime format"
   ]
  },
  {
   "cell_type": "code",
   "execution_count": 69,
   "id": "12c3a47a-f92d-4cbb-bd3a-3bea5ca57384",
   "metadata": {},
   "outputs": [],
   "source": [
    "ship_dates = pd.to_datetime(finaldata['Ship_Date'].astype(str),dayfirst=True, errors='coerce')"
   ]
  },
  {
   "cell_type": "code",
   "execution_count": 70,
   "id": "dd3d75a5-e4c5-4bdc-a420-3334bcd77074",
   "metadata": {},
   "outputs": [],
   "source": [
    "finaldata = finaldata.drop(columns=['Ship_Date'])"
   ]
  },
  {
   "cell_type": "code",
   "execution_count": 71,
   "id": "091b0147-139e-4b44-8fe1-c3881219f72e",
   "metadata": {},
   "outputs": [],
   "source": [
    "finaldata['Ship_Date'] = ship_dates"
   ]
  },
  {
   "cell_type": "code",
   "execution_count": 72,
   "id": "48416104-77b8-4f4b-82a0-9e8352b703d1",
   "metadata": {},
   "outputs": [
    {
     "name": "stdout",
     "output_type": "stream",
     "text": [
      "datetime64[ns]\n"
     ]
    }
   ],
   "source": [
    "print(finaldata['Ship_Date'].dtype)"
   ]
  },
  {
   "cell_type": "code",
   "execution_count": 73,
   "id": "0e7f4938-f67d-421b-abea-e12d82512c43",
   "metadata": {},
   "outputs": [
    {
     "name": "stdout",
     "output_type": "stream",
     "text": [
      "<class 'pandas.core.frame.DataFrame'>\n",
      "Index: 8336 entries, 0 to 8398\n",
      "Data columns (total 22 columns):\n",
      " #   Column                Non-Null Count  Dtype         \n",
      "---  ------                --------------  -----         \n",
      " 0   Ord_id                8336 non-null   object        \n",
      " 1   Prod_id               8336 non-null   object        \n",
      " 2   Ship_id               8336 non-null   object        \n",
      " 3   Cust_id               8336 non-null   object        \n",
      " 4   Sales                 8336 non-null   float64       \n",
      " 5   Discount              8336 non-null   float64       \n",
      " 6   Order_Quantity        8336 non-null   int64         \n",
      " 7   Profit                8336 non-null   float64       \n",
      " 8   Shipping_Cost         8336 non-null   float64       \n",
      " 9   Product_Base_Margin   8336 non-null   float64       \n",
      " 10  Order_ID_x            8336 non-null   int64         \n",
      " 11  Order_Date            8336 non-null   object        \n",
      " 12  Order_Priority        8336 non-null   object        \n",
      " 13  Product_Category      8336 non-null   object        \n",
      " 14  Product_Sub_Category  8336 non-null   object        \n",
      " 15  Order_ID_y            8336 non-null   int64         \n",
      " 16  Ship_Mode             8336 non-null   object        \n",
      " 17  Customer_Name         8336 non-null   object        \n",
      " 18  Province              8336 non-null   object        \n",
      " 19  Region                8336 non-null   object        \n",
      " 20  Customer_Segment      8336 non-null   object        \n",
      " 21  Ship_Date             8336 non-null   datetime64[ns]\n",
      "dtypes: datetime64[ns](1), float64(5), int64(3), object(13)\n",
      "memory usage: 1.5+ MB\n"
     ]
    }
   ],
   "source": [
    "finaldata.info()"
   ]
  },
  {
   "cell_type": "code",
   "execution_count": 74,
   "id": "5ca88104-e6bb-4e90-b7a1-f105b0351b6d",
   "metadata": {},
   "outputs": [],
   "source": [
    "# EDA\n",
    "#Which product sells the most?\n",
    "#Which region gives the most profit?\n",
    "#Which customer is most valuable?\n",
    "#Does shipping mode affect cost or delivery?"
   ]
  },
  {
   "cell_type": "code",
   "execution_count": 75,
   "id": "d2641574-04b1-4512-b746-4f5d4e4e23da",
   "metadata": {},
   "outputs": [
    {
     "data": {
      "image/png": "[encoded data removed]",
      "text/plain": [
       "<Figure size 500x300 with 1 Axes>"
      ]
     },
     "metadata": {},
     "output_type": "display_data"
    }
   ],
   "source": [
    "py.figure(figsize=(5,3))\n",
    "categoryvssales = finaldata.groupby('Product_Category')['Sales'].sum().sort_values(ascending=False)\n",
    "categoryvssales.plot(kind='bar', color='purple')\n",
    "py.title(\"Total Sales by Product Category\")\n",
    "py.ylabel(\"Total Sales\")\n",
    "py.show()"
   ]
  },
  {
   "cell_type": "code",
   "execution_count": 76,
   "id": "18983c8e-c308-4377-b83e-886a31f445af",
   "metadata": {},
   "outputs": [
    {
     "data": {
      "image/png": "[encoded data removed]",
      "text/plain": [
       "<Figure size 500x300 with 1 Axes>"
      ]
     },
     "metadata": {},
     "output_type": "display_data"
    }
   ],
   "source": [
    "py.figure(figsize=(5,3))\n",
    "categoryvssales = finaldata.groupby('Product_Sub_Category')['Sales'].sum().sort_values(ascending=False)\n",
    "categoryvssales.plot(kind='bar', color='purple')\n",
    "py.title(\"Total Sales by Product sub Category\")\n",
    "py.ylabel(\"Total Sales\")\n",
    "py.show()"
   ]
  },
  {
   "cell_type": "code",
   "execution_count": 77,
   "id": "9169dbd1-208d-44c7-a098-11787db83c02",
   "metadata": {},
   "outputs": [],
   "source": [
    "#offices machines are sellef most from technologies category"
   ]
  },
  {
   "cell_type": "code",
   "execution_count": 84,
   "id": "6761e165-6124-44f0-b8ec-839d7f0a97b5",
   "metadata": {},
   "outputs": [
    {
     "data": {
      "text/plain": [
       "<Axes: xlabel='Region'>"
      ]
     },
     "execution_count": 84,
     "metadata": {},
     "output_type": "execute_result"
    },
    {
     "data": {
      "image/png": "[encoded data removed]",
      "text/plain": [
       "<Figure size 400x300 with 1 Axes>"
      ]
     },
     "metadata": {},
     "output_type": "display_data"
    }
   ],
   "source": [
    "py.figure(figsize=(4,3))\n",
    "regionprofit=finaldata.groupby('Region')['Profit'].sum()\n",
    "regionprofit.plot(kind='bar',color='blue')\n",
    "\n"
   ]
  },
  {
   "cell_type": "code",
   "execution_count": 87,
   "id": "c825990a-aac4-4cad-89b0-58a65155e828",
   "metadata": {},
   "outputs": [],
   "source": [
    "#ontario is the most profitable region"
   ]
  },
  {
   "cell_type": "code",
   "execution_count": 88,
   "id": "989a7b37-3d84-4d32-b298-59caf7eff035",
   "metadata": {},
   "outputs": [
    {
     "data": {
      "text/plain": [
       "Region\n",
       "ONTARIO                  352263.51\n",
       "PRARIE                   311652.23\n",
       "WEST                     285506.54\n",
       "ATLANTIC                 231491.19\n",
       "QUEBEC                   138658.88\n",
       "NORTHWEST TERRITORIES     91755.44\n",
       "YUKON                     74404.80\n",
       "NUNAVUT                    1506.43\n",
       "Name: Profit, dtype: float64"
      ]
     },
     "execution_count": 88,
     "metadata": {},
     "output_type": "execute_result"
    }
   ],
   "source": [
    "regionprofit.sort_values(ascending=False)"
   ]
  },
  {
   "cell_type": "code",
   "execution_count": 89,
   "id": "1e70d13f-3904-4ed5-8e99-a7556f74729c",
   "metadata": {},
   "outputs": [
    {
     "data": {
      "text/html": [
       "<div>\n",
       "<style scoped>\n",
       "    .dataframe tbody tr th:only-of-type {\n",
       "        vertical-align: middle;\n",
       "    }\n",
       "\n",
       "    .dataframe tbody tr th {\n",
       "        vertical-align: top;\n",
       "    }\n",
       "\n",
       "    .dataframe thead th {\n",
       "        text-align: right;\n",
       "    }\n",
       "</style>\n",
       "<table border=\"1\" class=\"dataframe\">\n",
       "  <thead>\n",
       "    <tr style=\"text-align: right;\">\n",
       "      <th></th>\n",
       "      <th>Ord_id</th>\n",
       "      <th>Prod_id</th>\n",
       "      <th>Ship_id</th>\n",
       "      <th>Cust_id</th>\n",
       "      <th>Sales</th>\n",
       "      <th>Discount</th>\n",
       "      <th>Order_Quantity</th>\n",
       "      <th>Profit</th>\n",
       "      <th>Shipping_Cost</th>\n",
       "      <th>Product_Base_Margin</th>\n",
       "      <th>...</th>\n",
       "      <th>Order_Priority</th>\n",
       "      <th>Product_Category</th>\n",
       "      <th>Product_Sub_Category</th>\n",
       "      <th>Order_ID_y</th>\n",
       "      <th>Ship_Mode</th>\n",
       "      <th>Customer_Name</th>\n",
       "      <th>Province</th>\n",
       "      <th>Region</th>\n",
       "      <th>Customer_Segment</th>\n",
       "      <th>Ship_Date</th>\n",
       "    </tr>\n",
       "  </thead>\n",
       "  <tbody>\n",
       "    <tr>\n",
       "      <th>0</th>\n",
       "      <td>Ord_5446</td>\n",
       "      <td>Prod_16</td>\n",
       "      <td>SHP_7609</td>\n",
       "      <td>Cust_1818</td>\n",
       "      <td>136.81</td>\n",
       "      <td>0.01</td>\n",
       "      <td>23</td>\n",
       "      <td>-30.51</td>\n",
       "      <td>3.60</td>\n",
       "      <td>0.56</td>\n",
       "      <td>...</td>\n",
       "      <td>NOT SPECIFIED</td>\n",
       "      <td>OFFICE SUPPLIES</td>\n",
       "      <td>SCISSORS, RULERS AND TRIMMERS</td>\n",
       "      <td>36262</td>\n",
       "      <td>REGULAR AIR</td>\n",
       "      <td>AARON BERGMAN</td>\n",
       "      <td>ALBERTA</td>\n",
       "      <td>WEST</td>\n",
       "      <td>CORPORATE</td>\n",
       "      <td>2010-07-28</td>\n",
       "    </tr>\n",
       "    <tr>\n",
       "      <th>1</th>\n",
       "      <td>Ord_5406</td>\n",
       "      <td>Prod_13</td>\n",
       "      <td>SHP_7549</td>\n",
       "      <td>Cust_1818</td>\n",
       "      <td>42.27</td>\n",
       "      <td>0.01</td>\n",
       "      <td>13</td>\n",
       "      <td>4.56</td>\n",
       "      <td>0.93</td>\n",
       "      <td>0.54</td>\n",
       "      <td>...</td>\n",
       "      <td>HIGH</td>\n",
       "      <td>OFFICE SUPPLIES</td>\n",
       "      <td>PENS &amp; ART SUPPLIES</td>\n",
       "      <td>20513</td>\n",
       "      <td>EXPRESS AIR</td>\n",
       "      <td>AARON BERGMAN</td>\n",
       "      <td>ALBERTA</td>\n",
       "      <td>WEST</td>\n",
       "      <td>CORPORATE</td>\n",
       "      <td>2009-07-08</td>\n",
       "    </tr>\n",
       "    <tr>\n",
       "      <th>2</th>\n",
       "      <td>Ord_5446</td>\n",
       "      <td>Prod_4</td>\n",
       "      <td>SHP_7610</td>\n",
       "      <td>Cust_1818</td>\n",
       "      <td>4701.69</td>\n",
       "      <td>0.00</td>\n",
       "      <td>26</td>\n",
       "      <td>1148.90</td>\n",
       "      <td>2.50</td>\n",
       "      <td>0.59</td>\n",
       "      <td>...</td>\n",
       "      <td>NOT SPECIFIED</td>\n",
       "      <td>TECHNOLOGY</td>\n",
       "      <td>TELEPHONES AND COMMUNICATION</td>\n",
       "      <td>36262</td>\n",
       "      <td>EXPRESS AIR</td>\n",
       "      <td>AARON BERGMAN</td>\n",
       "      <td>ALBERTA</td>\n",
       "      <td>WEST</td>\n",
       "      <td>CORPORATE</td>\n",
       "      <td>2010-07-27</td>\n",
       "    </tr>\n",
       "    <tr>\n",
       "      <th>3</th>\n",
       "      <td>Ord_5456</td>\n",
       "      <td>Prod_6</td>\n",
       "      <td>SHP_7625</td>\n",
       "      <td>Cust_1818</td>\n",
       "      <td>2337.89</td>\n",
       "      <td>0.09</td>\n",
       "      <td>43</td>\n",
       "      <td>729.34</td>\n",
       "      <td>14.30</td>\n",
       "      <td>0.37</td>\n",
       "      <td>...</td>\n",
       "      <td>MEDIUM</td>\n",
       "      <td>OFFICE SUPPLIES</td>\n",
       "      <td>PAPER</td>\n",
       "      <td>39682</td>\n",
       "      <td>EXPRESS AIR</td>\n",
       "      <td>AARON BERGMAN</td>\n",
       "      <td>ALBERTA</td>\n",
       "      <td>WEST</td>\n",
       "      <td>CORPORATE</td>\n",
       "      <td>2010-11-11</td>\n",
       "    </tr>\n",
       "    <tr>\n",
       "      <th>4</th>\n",
       "      <td>Ord_5485</td>\n",
       "      <td>Prod_17</td>\n",
       "      <td>SHP_7664</td>\n",
       "      <td>Cust_1818</td>\n",
       "      <td>4233.15</td>\n",
       "      <td>0.08</td>\n",
       "      <td>35</td>\n",
       "      <td>1219.87</td>\n",
       "      <td>26.30</td>\n",
       "      <td>0.38</td>\n",
       "      <td>...</td>\n",
       "      <td>LOW</td>\n",
       "      <td>TECHNOLOGY</td>\n",
       "      <td>OFFICE MACHINES</td>\n",
       "      <td>54019</td>\n",
       "      <td>DELIVERY TRUCK</td>\n",
       "      <td>AARON BERGMAN</td>\n",
       "      <td>ALBERTA</td>\n",
       "      <td>WEST</td>\n",
       "      <td>CORPORATE</td>\n",
       "      <td>2009-07-08</td>\n",
       "    </tr>\n",
       "  </tbody>\n",
       "</table>\n",
       "<p>5 rows × 22 columns</p>\n",
       "</div>"
      ],
      "text/plain": [
       "     Ord_id  Prod_id   Ship_id    Cust_id    Sales  Discount  Order_Quantity  \\\n",
       "0  Ord_5446  Prod_16  SHP_7609  Cust_1818   136.81      0.01              23   \n",
       "1  Ord_5406  Prod_13  SHP_7549  Cust_1818    42.27      0.01              13   \n",
       "2  Ord_5446   Prod_4  SHP_7610  Cust_1818  4701.69      0.00              26   \n",
       "3  Ord_5456   Prod_6  SHP_7625  Cust_1818  2337.89      0.09              43   \n",
       "4  Ord_5485  Prod_17  SHP_7664  Cust_1818  4233.15      0.08              35   \n",
       "\n",
       "    Profit  Shipping_Cost  Product_Base_Margin  ...  Order_Priority  \\\n",
       "0   -30.51           3.60                 0.56  ...   NOT SPECIFIED   \n",
       "1     4.56           0.93                 0.54  ...            HIGH   \n",
       "2  1148.90           2.50                 0.59  ...   NOT SPECIFIED   \n",
       "3   729.34          14.30                 0.37  ...          MEDIUM   \n",
       "4  1219.87          26.30                 0.38  ...             LOW   \n",
       "\n",
       "  Product_Category           Product_Sub_Category Order_ID_y       Ship_Mode  \\\n",
       "0  OFFICE SUPPLIES  SCISSORS, RULERS AND TRIMMERS      36262     REGULAR AIR   \n",
       "1  OFFICE SUPPLIES            PENS & ART SUPPLIES      20513     EXPRESS AIR   \n",
       "2       TECHNOLOGY   TELEPHONES AND COMMUNICATION      36262     EXPRESS AIR   \n",
       "3  OFFICE SUPPLIES                          PAPER      39682     EXPRESS AIR   \n",
       "4       TECHNOLOGY                OFFICE MACHINES      54019  DELIVERY TRUCK   \n",
       "\n",
       "   Customer_Name Province Region Customer_Segment  Ship_Date  \n",
       "0  AARON BERGMAN  ALBERTA   WEST        CORPORATE 2010-07-28  \n",
       "1  AARON BERGMAN  ALBERTA   WEST        CORPORATE 2009-07-08  \n",
       "2  AARON BERGMAN  ALBERTA   WEST        CORPORATE 2010-07-27  \n",
       "3  AARON BERGMAN  ALBERTA   WEST        CORPORATE 2010-11-11  \n",
       "4  AARON BERGMAN  ALBERTA   WEST        CORPORATE 2009-07-08  \n",
       "\n",
       "[5 rows x 22 columns]"
      ]
     },
     "execution_count": 89,
     "metadata": {},
     "output_type": "execute_result"
    }
   ],
   "source": [
    "finaldata.head()"
   ]
  },
  {
   "cell_type": "code",
   "execution_count": 94,
   "id": "9275af6a-0900-4d06-90ca-ec4c9f8fedaa",
   "metadata": {},
   "outputs": [
    {
     "data": {
      "text/plain": [
       "Cust_id\n",
       "Cust_1151    97011.1940\n",
       "Cust_942     75967.5905\n",
       "Cust_1007    72331.8800\n",
       "Cust_1799    70426.5900\n",
       "Cust_1421    67285.1320\n",
       "                ...    \n",
       "Cust_1761       11.0800\n",
       "Cust_1256       10.9400\n",
       "Cust_615         9.3700\n",
       "Cust_269         5.0600\n",
       "Cust_881         3.4200\n",
       "Name: Sales, Length: 1829, dtype: float64"
      ]
     },
     "execution_count": 94,
     "metadata": {},
     "output_type": "execute_result"
    }
   ],
   "source": [
    "mostcalcust=finaldata.groupby('Cust_id')['Sales'].sum().sort_values(ascending=False)\n",
    "mostcalcust"
   ]
  },
  {
   "cell_type": "code",
   "execution_count": 96,
   "id": "ebc4dade-2268-4515-b957-a2662d1d94b2",
   "metadata": {},
   "outputs": [
    {
     "name": "stdout",
     "output_type": "stream",
     "text": [
      "EMILY PHAN\n"
     ]
    }
   ],
   "source": [
    "mostvaluedcustomer = finaldata.loc[finaldata['Cust_id'] == 'Cust_1151', 'Customer_Name'].values[0]\n",
    "print(mostvaluedcustomer)\n"
   ]
  },
  {
   "cell_type": "code",
   "execution_count": null,
   "id": "dcbedd3b-ca4e-45ea-b59c-ee47d6de093b",
   "metadata": {},
   "outputs": [],
   "source": [
    "#emily phan is the most valued customer as she has spent the most"
   ]
  },
  {
   "cell_type": "code",
   "execution_count": 100,
   "id": "73c14386-b53c-423a-820e-b2dde804a3f8",
   "metadata": {},
   "outputs": [
    {
     "data": {
      "text/plain": [
       "<Axes: xlabel='Ship_Mode', ylabel='Shipping_Cost'>"
      ]
     },
     "execution_count": 100,
     "metadata": {},
     "output_type": "execute_result"
    },
    {
     "data": {
      "image/png": "[encoded data removed]",
      "text/plain": [
       "<Figure size 500x300 with 1 Axes>"
      ]
     },
     "metadata": {},
     "output_type": "display_data"
    }
   ],
   "source": [
    "py.figure(figsize=(5,3))\n",
    "sns.scatterplot(x='Ship_Mode',y='Shipping_Cost',data=finaldata)"
   ]
  },
  {
   "cell_type": "code",
   "execution_count": 101,
   "id": "7a6085f2-0c29-4c8c-9260-d06a533f952a",
   "metadata": {},
   "outputs": [
    {
     "data": {
      "text/plain": [
       "Ship_Mode\n",
       "REGULAR AIR       6233\n",
       "DELIVERY TRUCK    1130\n",
       "EXPRESS AIR        973\n",
       "Name: count, dtype: int64"
      ]
     },
     "execution_count": 101,
     "metadata": {},
     "output_type": "execute_result"
    }
   ],
   "source": [
    "finaldata['Ship_Mode'].value_counts()"
   ]
  },
  {
   "cell_type": "code",
   "execution_count": 103,
   "id": "64e137c3-eab5-4314-8d81-00531ef742fb",
   "metadata": {},
   "outputs": [
    {
     "data": {
      "text/plain": [
       "<Axes: xlabel='Shipping_Cost', ylabel='Profit'>"
      ]
     },
     "execution_count": 103,
     "metadata": {},
     "output_type": "execute_result"
    },
    {
     "data": {
      "image/png": "[encoded data removed]",
      "text/plain": [
       "<Figure size 800x500 with 1 Axes>"
      ]
     },
     "metadata": {},
     "output_type": "display_data"
    }
   ],
   "source": [
    "py.figure(figsize=(8,5))\n",
    "sns.scatterplot(x='Shipping_Cost', y='Profit', data=finaldata)"
   ]
  },
  {
   "cell_type": "code",
   "execution_count": 107,
   "id": "21199bf2-c5a8-4ed6-853f-6cb3cbd72d0a",
   "metadata": {},
   "outputs": [],
   "source": [
    "monthly_sales = finaldata.groupby(finaldata['Ship_Date'].dt.to_period(\"M\"))['Sales'].sum()"
   ]
  },
  {
   "cell_type": "code",
   "execution_count": 108,
   "id": "eb407161-a892-4562-ac00-150c80ecb441",
   "metadata": {},
   "outputs": [
    {
     "data": {
      "text/plain": [
       "<Axes: xlabel='Ship_Date', ylabel='Sales'>"
      ]
     },
     "execution_count": 108,
     "metadata": {},
     "output_type": "execute_result"
    },
    {
     "data": {
      "image/png": "[encoded data removed]",
      "text/plain": [
       "<Figure size 640x480 with 1 Axes>"
      ]
     },
     "metadata": {},
     "output_type": "display_data"
    }
   ],
   "source": [
    "sns.barplot(monthly_sales )"
   ]
  },
  {
   "cell_type": "code",
   "execution_count": null,
   "id": "00f01552-cba7-495c-9931-5a3e5e671a39",
   "metadata": {},
   "outputs": [],
   "source": []
  }
 ],
 "metadata": {
  "kernelspec": {
   "display_name": "Python 3 (ipykernel)",
   "language": "python",
   "name": "python3"
  },
  "language_info": {
   "codemirror_mode": {
    "name": "ipython",
    "version": 3
   },
   "file_extension": ".py",
   "mimetype": "text/x-python",
   "name": "python",
   "nbconvert_exporter": "python",
   "pygments_lexer": "ipython3",
   "version": "3.12.4"
  }
 },
 "nbformat": 4,
 "nbformat_minor": 5
}
